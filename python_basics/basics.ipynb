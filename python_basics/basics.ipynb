{
 "cells": [
  {
   "cell_type": "markdown",
   "metadata": {},
   "source": [
    "# Basics"
   ]
  },
  {
   "cell_type": "code",
   "execution_count": null,
   "metadata": {},
   "outputs": [],
   "source": [
    "print(\"Hello, world!\")"
   ]
  },
  {
   "cell_type": "code",
   "execution_count": 4,
   "metadata": {},
   "outputs": [
    {
     "name": "stdout",
     "output_type": "stream",
     "text": [
      "format 10\n"
     ]
    }
   ],
   "source": [
    "integer = 10\n",
    "floating_point = 20.5\n",
    "string = \"Python\"\n",
    "boolean = True\n",
    "print(f\"format {integer}\")"
   ]
  },
  {
   "cell_type": "code",
   "execution_count": null,
   "metadata": {},
   "outputs": [],
   "source": [
    "addition = 5 + 3\n",
    "subtraction = 5 - 3\n",
    "multiplication = 5 * 3\n",
    "division = 5 / 2\n",
    "print(division)\n",
    "modulus = 5 % 3\n",
    "exponent = 5 ** 3\n",
    "print(exponent)"
   ]
  },
  {
   "cell_type": "markdown",
   "metadata": {},
   "source": [
    "# Convertions"
   ]
  },
  {
   "cell_type": "code",
   "execution_count": null,
   "metadata": {},
   "outputs": [],
   "source": [
    "i = 10\n",
    "i = 10 / 3\n",
    "print(i)"
   ]
  },
  {
   "cell_type": "code",
   "execution_count": null,
   "metadata": {},
   "outputs": [],
   "source": [
    "print(5 > 3)  # True\n",
    "print(5 < 3)  # False\n",
    "print(5 == 5) # True\n",
    "print(5 != 3) # True"
   ]
  },
  {
   "cell_type": "markdown",
   "metadata": {},
   "source": [
    "# Loops"
   ]
  },
  {
   "cell_type": "code",
   "execution_count": null,
   "metadata": {},
   "outputs": [],
   "source": [
    "age = 10\n",
    "if age > 18:\n",
    "    print(\"You are an adult.\")\n",
    "elif age == 18:\n",
    "    print(\"Congrats on becoming an adult!\")\n",
    "else:\n",
    "    print(\"You are not an adult.\")"
   ]
  },
  {
   "cell_type": "code",
   "execution_count": null,
   "metadata": {},
   "outputs": [],
   "source": [
    "for i in range(5):\n",
    "    print(i)"
   ]
  },
  {
   "cell_type": "code",
   "execution_count": null,
   "metadata": {},
   "outputs": [],
   "source": [
    "count = 0\n",
    "while count < 5:\n",
    "    print(count)\n",
    "    count += 1\n"
   ]
  },
  {
   "cell_type": "code",
   "execution_count": 1,
   "metadata": {},
   "outputs": [
    {
     "name": "stdout",
     "output_type": "stream",
     "text": [
      "0 apple\n",
      "1 banana\n",
      "2 cherry\n",
      "3 date\n"
     ]
    }
   ],
   "source": [
    "fruits = ['apple', 'banana', 'cherry', 'date']\n",
    "for index, fruit in enumerate(fruits):\n",
    "    print(index, fruit)\n"
   ]
  },
  {
   "cell_type": "markdown",
   "metadata": {},
   "source": [
    "# Functions"
   ]
  },
  {
   "cell_type": "code",
   "execution_count": 21,
   "metadata": {},
   "outputs": [
    {
     "name": "stdout",
     "output_type": "stream",
     "text": [
      "Hello Alice!\n",
      "Division: 3\n",
      "Remainder: 2\n"
     ]
    }
   ],
   "source": [
    "# return 1 val\n",
    "def greet(name):\n",
    "    return \"Hello \" + name + \"!\"\n",
    "\n",
    "greeting = greet(\"Alice\")\n",
    "print(greeting)\n",
    "\n",
    "# return 2 vals\n",
    "def divide_and_remainder(x, y):\n",
    "    div = x // y  # Integer division\n",
    "    rem = x % y   # Remainder\n",
    "    return div, rem\n",
    "\n",
    "division, remainder = divide_and_remainder(20, 6)\n",
    "print(\"Division:\", division)\n",
    "print(\"Remainder:\", remainder)\n"
   ]
  },
  {
   "cell_type": "markdown",
   "metadata": {},
   "source": [
    "# Data structures"
   ]
  },
  {
   "cell_type": "markdown",
   "metadata": {},
   "source": [
    "## List"
   ]
  },
  {
   "cell_type": "code",
   "execution_count": 7,
   "metadata": {},
   "outputs": [
    {
     "name": "stdout",
     "output_type": "stream",
     "text": [
      "[1, 2, 3, 'Python', [4, 5], 6, 7, 8]\n"
     ]
    }
   ],
   "source": [
    "# Creating a list\n",
    "my_list = [1, 2, 3, 'Python', [4, 5]]\n",
    "\n",
    "# Adding to a list\n",
    "my_list.append(6)\n",
    "my_list.extend([7, 8])\n",
    "print(my_list)"
   ]
  },
  {
   "cell_type": "code",
   "execution_count": 9,
   "metadata": {},
   "outputs": [
    {
     "name": "stdout",
     "output_type": "stream",
     "text": [
      "8\n"
     ]
    }
   ],
   "source": [
    "# print last element\n",
    "print(my_list[-1]) "
   ]
  },
  {
   "cell_type": "code",
   "execution_count": 10,
   "metadata": {},
   "outputs": [
    {
     "name": "stdout",
     "output_type": "stream",
     "text": [
      "[2, 3, 'Python']\n"
     ]
    }
   ],
   "source": [
    "# print index from 1 to 3\n",
    "print(my_list[1:4])"
   ]
  },
  {
   "cell_type": "code",
   "execution_count": 18,
   "metadata": {},
   "outputs": [
    {
     "name": "stdout",
     "output_type": "stream",
     "text": [
      "[3, 'Python', [4, 5], 6, 7, 8]\n"
     ]
    }
   ],
   "source": [
    "# returns first pointer \n",
    "my_list = my_list[1:]\n",
    "print(my_list)"
   ]
  },
  {
   "cell_type": "code",
   "execution_count": 20,
   "metadata": {},
   "outputs": [
    {
     "name": "stdout",
     "output_type": "stream",
     "text": [
      "Index out of bounds.\n"
     ]
    }
   ],
   "source": [
    "my_list = [1, 2, 3, 4, 5]  # Example list\n",
    "\n",
    "if len(my_list) > 100:\n",
    "    print(my_list[100])\n",
    "else:\n",
    "    print(\"Index out of bounds.\")\n"
   ]
  },
  {
   "cell_type": "markdown",
   "metadata": {},
   "source": [
    "## Dict"
   ]
  },
  {
   "cell_type": "code",
   "execution_count": 17,
   "metadata": {},
   "outputs": [
    {
     "name": "stdout",
     "output_type": "stream",
     "text": [
      "Alice\n",
      "name Alice\n",
      "age 26\n",
      "city New York\n",
      "job Engineer\n",
      "No Job Specified\n",
      "Age exist: 25\n"
     ]
    }
   ],
   "source": [
    "# Creating a dictionary\n",
    "my_dict = {'name': 'Alice', 'age': 25, 'city': 'New York'}\n",
    "\n",
    "# Accessing dictionary values\n",
    "print(my_dict['name'])  # prints 'Alice'\n",
    "\n",
    "# Adding new key-value pairs\n",
    "my_dict['job'] = 'Engineer'\n",
    "\n",
    "# Modifying values\n",
    "my_dict['age'] = 26\n",
    "\n",
    "# Iterating over dictionaries\n",
    "for key, value in my_dict.items():\n",
    "    print(key, value)\n",
    "\n",
    "# access key does not exist in dict will error\n",
    "# print(my_dict['xxx'])\n",
    "# best practice:\n",
    "my_dict = {'name': 'Alice', 'age': 25}\n",
    "# Accessing a key safely\n",
    "job = my_dict.get('job', 'No Job Specified')\n",
    "print(job)  # Output: No Job Specified\n",
    "\n",
    "# check existance\n",
    "if 'age' in my_dict:\n",
    "    print(f\"Age exist: {my_dict['age']}\")\n",
    "else:\n",
    "    print(\"Age not exist\")\n"
   ]
  },
  {
   "cell_type": "markdown",
   "metadata": {},
   "source": [
    "## Set"
   ]
  },
  {
   "cell_type": "code",
   "execution_count": 23,
   "metadata": {},
   "outputs": [
    {
     "name": "stdout",
     "output_type": "stream",
     "text": [
      "{1, 2, 3}\n",
      "{3, 4}\n",
      "2 exist\n"
     ]
    }
   ],
   "source": [
    "# Creating a set\n",
    "my_set = {1, 2, 3, 2}\n",
    "print(my_set)  # prints {1, 2, 3} because duplicates are removed\n",
    "\n",
    "# Adding elements\n",
    "my_set.add(4)\n",
    "\n",
    "# Set operations\n",
    "another_set = {3, 4, 5, 6}\n",
    "print(my_set.intersection(another_set))  # prints {3, 4}\n",
    "\n",
    "# check existance\n",
    "if 2 in my_set:\n",
    "    print('2 exist')\n"
   ]
  },
  {
   "cell_type": "markdown",
   "metadata": {},
   "source": [
    "## Tuples"
   ]
  },
  {
   "cell_type": "code",
   "execution_count": 34,
   "metadata": {},
   "outputs": [
    {
     "name": "stdout",
     "output_type": "stream",
     "text": [
      "2\n",
      "1 2 3\n",
      "1 2\n"
     ]
    }
   ],
   "source": [
    "# Creating a tuple\n",
    "my_tuple = (1, 2, 3)\n",
    "\n",
    "# Accessing elements\n",
    "print(my_tuple[1])  # prints 2\n",
    "\n",
    "# Unpacking\n",
    "a, b, c = my_tuple\n",
    "print(a, b, c)  # prints 1 2 3\n",
    "\n",
    "d, e, _ = my_tuple\n",
    "print(d, e)  # prints 1 2\n",
    "\n",
    "# Tuples are immutable\n",
    "# my_tuple[1] = 'two'  # This would raise an error\n"
   ]
  },
  {
   "cell_type": "code",
   "execution_count": null,
   "metadata": {},
   "outputs": [],
   "source": []
  }
 ],
 "metadata": {
  "kernelspec": {
   "display_name": "ml",
   "language": "python",
   "name": "python3"
  },
  "language_info": {
   "codemirror_mode": {
    "name": "ipython",
    "version": 3
   },
   "file_extension": ".py",
   "mimetype": "text/x-python",
   "name": "python",
   "nbconvert_exporter": "python",
   "pygments_lexer": "ipython3",
   "version": "3.12.2"
  }
 },
 "nbformat": 4,
 "nbformat_minor": 2
}
