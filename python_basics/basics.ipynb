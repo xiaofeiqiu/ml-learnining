{
 "cells": [
  {
   "cell_type": "markdown",
   "metadata": {},
   "source": [
    "# Basics"
   ]
  },
  {
   "cell_type": "code",
   "execution_count": null,
   "metadata": {},
   "outputs": [],
   "source": [
    "print(\"Hello, world!\")"
   ]
  },
  {
   "cell_type": "code",
   "execution_count": 4,
   "metadata": {},
   "outputs": [
    {
     "name": "stdout",
     "output_type": "stream",
     "text": [
      "format 10\n"
     ]
    }
   ],
   "source": [
    "integer = 10\n",
    "floating_point = 20.5\n",
    "string = \"Python\"\n",
    "boolean = True\n",
    "print(f\"format {integer}\")"
   ]
  },
  {
   "cell_type": "code",
   "execution_count": null,
   "metadata": {},
   "outputs": [],
   "source": [
    "addition = 5 + 3\n",
    "subtraction = 5 - 3\n",
    "multiplication = 5 * 3\n",
    "division = 5 / 2\n",
    "print(division)\n",
    "modulus = 5 % 3\n",
    "exponent = 5 ** 3\n",
    "print(exponent)"
   ]
  },
  {
   "cell_type": "markdown",
   "metadata": {},
   "source": [
    "# Convertions"
   ]
  },
  {
   "cell_type": "code",
   "execution_count": null,
   "metadata": {},
   "outputs": [],
   "source": [
    "i = 10\n",
    "i = 10 / 3\n",
    "print(i)"
   ]
  },
  {
   "cell_type": "code",
   "execution_count": null,
   "metadata": {},
   "outputs": [],
   "source": [
    "print(5 > 3)  # True\n",
    "print(5 < 3)  # False\n",
    "print(5 == 5) # True\n",
    "print(5 != 3) # True"
   ]
  },
  {
   "cell_type": "markdown",
   "metadata": {},
   "source": [
    "# Loops"
   ]
  },
  {
   "cell_type": "code",
   "execution_count": null,
   "metadata": {},
   "outputs": [],
   "source": [
    "age = 10\n",
    "if age > 18:\n",
    "    print(\"You are an adult.\")\n",
    "elif age == 18:\n",
    "    print(\"Congrats on becoming an adult!\")\n",
    "else:\n",
    "    print(\"You are not an adult.\")"
   ]
  },
  {
   "cell_type": "code",
   "execution_count": null,
   "metadata": {},
   "outputs": [],
   "source": [
    "for i in range(5):\n",
    "    print(i)"
   ]
  },
  {
   "cell_type": "code",
   "execution_count": null,
   "metadata": {},
   "outputs": [],
   "source": [
    "count = 0\n",
    "while count < 5:\n",
    "    print(count)\n",
    "    count += 1\n"
   ]
  },
  {
   "cell_type": "code",
   "execution_count": 1,
   "metadata": {},
   "outputs": [
    {
     "name": "stdout",
     "output_type": "stream",
     "text": [
      "0 apple\n",
      "1 banana\n",
      "2 cherry\n",
      "3 date\n"
     ]
    }
   ],
   "source": [
    "fruits = ['apple', 'banana', 'cherry', 'date']\n",
    "for index, fruit in enumerate(fruits):\n",
    "    print(index, fruit)\n"
   ]
  },
  {
   "cell_type": "markdown",
   "metadata": {},
   "source": [
    "# Functions"
   ]
  },
  {
   "cell_type": "code",
   "execution_count": 21,
   "metadata": {},
   "outputs": [
    {
     "name": "stdout",
     "output_type": "stream",
     "text": [
      "Hello Alice!\n",
      "Division: 3\n",
      "Remainder: 2\n"
     ]
    }
   ],
   "source": [
    "# return 1 val\n",
    "def greet(name):\n",
    "    return \"Hello \" + name + \"!\"\n",
    "\n",
    "greeting = greet(\"Alice\")\n",
    "print(greeting)\n",
    "\n",
    "# return 2 vals\n",
    "def divide_and_remainder(x, y):\n",
    "    div = x // y  # Integer division\n",
    "    rem = x % y   # Remainder\n",
    "    return div, rem\n",
    "\n",
    "division, remainder = divide_and_remainder(20, 6)\n",
    "print(\"Division:\", division)\n",
    "print(\"Remainder:\", remainder)\n"
   ]
  },
  {
   "cell_type": "markdown",
   "metadata": {},
   "source": [
    "# Data structures"
   ]
  },
  {
   "cell_type": "markdown",
   "metadata": {},
   "source": [
    "## List"
   ]
  },
  {
   "cell_type": "code",
   "execution_count": 7,
   "metadata": {},
   "outputs": [
    {
     "name": "stdout",
     "output_type": "stream",
     "text": [
      "[1, 2, 3, 'Python', [4, 5], 6, 7, 8]\n"
     ]
    }
   ],
   "source": [
    "# Creating a list\n",
    "my_list = [1, 2, 3, 'Python', [4, 5]]\n",
    "\n",
    "# Adding to a list\n",
    "my_list.append(6)\n",
    "my_list.extend([7, 8])\n",
    "print(my_list)"
   ]
  },
  {
   "cell_type": "code",
   "execution_count": 9,
   "metadata": {},
   "outputs": [
    {
     "name": "stdout",
     "output_type": "stream",
     "text": [
      "8\n"
     ]
    }
   ],
   "source": [
    "# print last element\n",
    "print(my_list[-1]) "
   ]
  },
  {
   "cell_type": "code",
   "execution_count": 10,
   "metadata": {},
   "outputs": [
    {
     "name": "stdout",
     "output_type": "stream",
     "text": [
      "[2, 3, 'Python']\n"
     ]
    }
   ],
   "source": [
    "# print index from 1 to 3\n",
    "print(my_list[1:4])"
   ]
  },
  {
   "cell_type": "code",
   "execution_count": 18,
   "metadata": {},
   "outputs": [
    {
     "name": "stdout",
     "output_type": "stream",
     "text": [
      "[3, 'Python', [4, 5], 6, 7, 8]\n"
     ]
    }
   ],
   "source": [
    "# returns first pointer \n",
    "my_list = my_list[1:]\n",
    "print(my_list)"
   ]
  },
  {
   "cell_type": "code",
   "execution_count": 20,
   "metadata": {},
   "outputs": [
    {
     "name": "stdout",
     "output_type": "stream",
     "text": [
      "Index out of bounds.\n"
     ]
    }
   ],
   "source": [
    "my_list = [1, 2, 3, 4, 5]  # Example list\n",
    "\n",
    "if len(my_list) > 100:\n",
    "    print(my_list[100])\n",
    "else:\n",
    "    print(\"Index out of bounds.\")\n"
   ]
  },
  {
   "cell_type": "markdown",
   "metadata": {},
   "source": [
    "## Dict"
   ]
  },
  {
   "cell_type": "code",
   "execution_count": 17,
   "metadata": {},
   "outputs": [
    {
     "name": "stdout",
     "output_type": "stream",
     "text": [
      "Alice\n",
      "name Alice\n",
      "age 26\n",
      "city New York\n",
      "job Engineer\n",
      "No Job Specified\n",
      "Age exist: 25\n"
     ]
    }
   ],
   "source": [
    "# Creating a dictionary\n",
    "my_dict = {'name': 'Alice', 'age': 25, 'city': 'New York'}\n",
    "\n",
    "# Accessing dictionary values\n",
    "print(my_dict['name'])  # prints 'Alice'\n",
    "\n",
    "# Adding new key-value pairs\n",
    "my_dict['job'] = 'Engineer'\n",
    "\n",
    "# Modifying values\n",
    "my_dict['age'] = 26\n",
    "\n",
    "# Iterating over dictionaries\n",
    "for key, value in my_dict.items():\n",
    "    print(key, value)\n",
    "\n",
    "# access key does not exist in dict will error\n",
    "# print(my_dict['xxx'])\n",
    "# best practice:\n",
    "my_dict = {'name': 'Alice', 'age': 25}\n",
    "# Accessing a key safely\n",
    "job = my_dict.get('job', 'No Job Specified')\n",
    "print(job)  # Output: No Job Specified\n",
    "\n",
    "# check existance\n",
    "if 'age' in my_dict:\n",
    "    print(f\"Age exist: {my_dict['age']}\")\n",
    "else:\n",
    "    print(\"Age not exist\")\n"
   ]
  },
  {
   "cell_type": "markdown",
   "metadata": {},
   "source": [
    "## Set"
   ]
  },
  {
   "cell_type": "code",
   "execution_count": 23,
   "metadata": {},
   "outputs": [
    {
     "name": "stdout",
     "output_type": "stream",
     "text": [
      "{1, 2, 3}\n",
      "{3, 4}\n",
      "2 exist\n"
     ]
    }
   ],
   "source": [
    "# Creating a set\n",
    "my_set = {1, 2, 3, 2}\n",
    "print(my_set)  # prints {1, 2, 3} because duplicates are removed\n",
    "\n",
    "# Adding elements\n",
    "my_set.add(4)\n",
    "\n",
    "# Set operations\n",
    "another_set = {3, 4, 5, 6}\n",
    "print(my_set.intersection(another_set))  # prints {3, 4}\n",
    "\n",
    "# check existance\n",
    "if 2 in my_set:\n",
    "    print('2 exist')\n"
   ]
  },
  {
   "cell_type": "markdown",
   "metadata": {},
   "source": [
    "## Tuples"
   ]
  },
  {
   "cell_type": "code",
   "execution_count": 34,
   "metadata": {},
   "outputs": [
    {
     "name": "stdout",
     "output_type": "stream",
     "text": [
      "2\n",
      "1 2 3\n",
      "1 2\n"
     ]
    }
   ],
   "source": [
    "# Creating a tuple\n",
    "my_tuple = (1, 2, 3)\n",
    "\n",
    "# Accessing elements\n",
    "print(my_tuple[1])  # prints 2\n",
    "\n",
    "# Unpacking\n",
    "a, b, c = my_tuple\n",
    "print(a, b, c)  # prints 1 2 3\n",
    "\n",
    "d, e, _ = my_tuple\n",
    "print(d, e)  # prints 1 2\n",
    "\n",
    "# Tuples are immutable\n",
    "# my_tuple[1] = 'two'  # This would raise an error\n"
   ]
  },
  {
   "cell_type": "markdown",
   "metadata": {},
   "source": [
    "# In-place Sort"
   ]
  },
  {
   "cell_type": "code",
   "execution_count": 35,
   "metadata": {},
   "outputs": [
    {
     "name": "stdout",
     "output_type": "stream",
     "text": [
      "[1, 1, 2, 3, 4, 5, 6, 9]\n"
     ]
    }
   ],
   "source": [
    "my_list = [3, 1, 4, 1, 5, 9, 2, 6]\n",
    "my_list.sort()\n",
    "print(my_list)  # Output: [1, 1, 2, 3, 4, 5, 6, 9]\n"
   ]
  },
  {
   "cell_type": "code",
   "execution_count": 36,
   "metadata": {},
   "outputs": [
    {
     "name": "stdout",
     "output_type": "stream",
     "text": [
      "['a', 'b']\n"
     ]
    }
   ],
   "source": [
    "my_list = ['b','a']\n",
    "my_list.sort()\n",
    "print(my_list)  "
   ]
  },
  {
   "cell_type": "code",
   "execution_count": 37,
   "metadata": {},
   "outputs": [
    {
     "name": "stdout",
     "output_type": "stream",
     "text": [
      "['apple', 'banana', 'cherry']\n"
     ]
    }
   ],
   "source": [
    "# Sorting by length of strings\n",
    "words = ['banana', 'apple', 'cherry']\n",
    "words.sort(key=len)\n",
    "print(words)  # Output: ['apple', 'banana', 'cherry']\n"
   ]
  },
  {
   "cell_type": "code",
   "execution_count": 39,
   "metadata": {},
   "outputs": [
    {
     "name": "stdout",
     "output_type": "stream",
     "text": [
      "['b', 'a']\n"
     ]
    }
   ],
   "source": [
    "my_list.sort(reverse=True)\n",
    "print(my_list) \n"
   ]
  },
  {
   "cell_type": "code",
   "execution_count": 46,
   "metadata": {},
   "outputs": [
    {
     "name": "stdout",
     "output_type": "stream",
     "text": [
      "['banana', 'apple', 'cherry']\n",
      "['cherry', 'apple', 'banana']\n"
     ]
    }
   ],
   "source": [
    "# custom sort, the lambda take an argument x, and returns last element of x\n",
    "words = ['banana', 'apple', 'cherry']\n",
    "words.sort(key=lambda x: x[-1])\n",
    "print(words)  # Output: ['apple', 'banana', 'cherry']\n",
    "\n",
    "# custom sort, the lambda take an argument x, and returns last element of x\n",
    "words = ['banana', 'apple', 'cherry']\n",
    "words.sort(reverse=True, key=lambda x: x[-1])\n",
    "print(words)  # Output: ['apple', 'banana', 'cherry']"
   ]
  },
  {
   "cell_type": "markdown",
   "metadata": {},
   "source": [
    "## Using the sorted() Function\n",
    "The sorted() function returns a new list containing all items from the iterable in ascending order and does not modify the original list.\n"
   ]
  },
  {
   "cell_type": "code",
   "execution_count": 41,
   "metadata": {},
   "outputs": [
    {
     "name": "stdout",
     "output_type": "stream",
     "text": [
      "['banana', 'apple', 'cherry']\n"
     ]
    }
   ],
   "source": [
    "# Sorting by the last letter of each word\n",
    "words = ['banana', 'apple', 'cherry']\n",
    "sorted_words = sorted(words, key=lambda x: x[-1])\n",
    "print(sorted_words)  # Output: ['banana', 'apple', 'cherry']"
   ]
  },
  {
   "cell_type": "code",
   "execution_count": 42,
   "metadata": {},
   "outputs": [
    {
     "name": "stdout",
     "output_type": "stream",
     "text": [
      "['banana', 'apple', 'cherry']\n"
     ]
    }
   ],
   "source": [
    "# Sorting by the last letter of each word\n",
    "words = ['banana', 'apple', 'cherry']\n",
    "sorted_words = sorted(words, key=lambda x: x[-1])\n",
    "print(sorted_words)  # Output: ['banana', 'apple', 'cherry']\n"
   ]
  },
  {
   "cell_type": "markdown",
   "metadata": {},
   "source": [
    "## Sorting a List of Records\n",
    "Method 1: Using Lambda for Complex Sorting\n",
    "\n",
    "- The primary sort key is x['department'], which sorts alphabetically by default.\n",
    "- The secondary sort key is -x['age'], which sorts by age in descending order (negative sign is used to reverse the usual ascending order of numbers)."
   ]
  },
  {
   "cell_type": "code",
   "execution_count": 47,
   "metadata": {},
   "outputs": [
    {
     "name": "stdout",
     "output_type": "stream",
     "text": [
      "[{'name': 'Charlie', 'department': 'Engineering', 'age': 35}, {'name': 'Alice', 'department': 'Engineering', 'age': 29}, {'name': 'Eve', 'department': 'HR', 'age': 40}, {'name': 'Bob', 'department': 'HR', 'age': 25}, {'name': 'David', 'department': 'Marketing', 'age': 30}]\n"
     ]
    }
   ],
   "source": [
    "employees = [\n",
    "    {'name': 'Alice', 'department': 'Engineering', 'age': 29},\n",
    "    {'name': 'Bob', 'department': 'HR', 'age': 25},\n",
    "    {'name': 'Charlie', 'department': 'Engineering', 'age': 35},\n",
    "    {'name': 'David', 'department': 'Marketing', 'age': 30},\n",
    "    {'name': 'Eve', 'department': 'HR', 'age': 40}\n",
    "]\n",
    "sorted_employees = sorted(employees, key=lambda x: (x['department'], -x['age']))\n",
    "print(sorted_employees)\n"
   ]
  },
  {
   "cell_type": "markdown",
   "metadata": {},
   "source": [
    "Method 2: Using itemgetter with Reverse Sorting"
   ]
  },
  {
   "cell_type": "code",
   "execution_count": 48,
   "metadata": {},
   "outputs": [
    {
     "name": "stdout",
     "output_type": "stream",
     "text": [
      "[{'name': 'Charlie', 'department': 'Engineering', 'age': 35}, {'name': 'Alice', 'department': 'Engineering', 'age': 29}, {'name': 'Eve', 'department': 'HR', 'age': 40}, {'name': 'Bob', 'department': 'HR', 'age': 25}, {'name': 'David', 'department': 'Marketing', 'age': 30}]\n"
     ]
    }
   ],
   "source": [
    "from operator import itemgetter\n",
    "\n",
    "# First, sort by age in descending order, then by department\n",
    "employees.sort(key=itemgetter('age'), reverse=True)\n",
    "sorted_employees = sorted(employees, key=itemgetter('department'))\n",
    "\n",
    "print(sorted_employees)\n"
   ]
  },
  {
   "cell_type": "markdown",
   "metadata": {},
   "source": [
    "# Package\n",
    "Example 1: Basic __init__.py\n",
    "In the simplest form, an __init__.py file can be completely empty. This is enough to tell Python that the directory should be treated as a package, and it's useful when your modules are straightforward and don't require any initialization code.\n",
    "\n",
    "Example 2: Importing Modules\n",
    "You can use __init__.py to make certain modules or variables available at the package level. This makes importing from your package cleaner and more intuitive.\n",
    "\n",
    "Suppose your package structure is like this:\n",
    "```\n",
    "mypackage/\n",
    "│\n",
    "├── __init__.py\n",
    "├── calculator.py\n",
    "└── utils.py\n",
    "```\n",
    "\n",
    "And calculator.py contains:\n",
    "\n",
    "```python\n",
    "def add(a, b):\n",
    "    return a + b\n",
    "\n",
    "def subtract(a, b):\n",
    "    return a - b\n",
    "```\n",
    "\n",
    "You can modify __init__.py to import these functions so they can be accessed directly from the package:\n",
    "\n",
    "```python\n",
    "# mypackage/__init__.py\n",
    "from .calculator import add, subtract\n",
    "```\n",
    "\n",
    "Now, users of your package can do this:\n",
    "\n",
    "```python\n",
    "from mypackage import add, subtract\n",
    "\n",
    "print(add(2, 3))  # Outputs: 5\n",
    "print(subtract(3, 1))  # Outputs: 2\n",
    "\n",
    "```\n",
    "\n",
    "Example 3: Package Initialization\n",
    "You might want to run some initialization code when your package is imported. __init__.py is a good place for this.\n",
    "\n",
    "For instance, you might want to set up logging, configure environment variables, or check for certain conditions when the package is loaded:\n",
    "\n",
    "```python\n",
    "# mypackage/__init__.py\n",
    "import logging\n",
    "\n",
    "logging.basicConfig(level=logging.INFO)\n",
    "logger = logging.getLogger(__name__)\n",
    "\n",
    "logger.info(\"Initializing mypackage\")\n",
    "\n",
    "# perhaps check for environment variables\n",
    "import os\n",
    "env_db_url = os.getenv('DATABASE_URL')\n",
    "if not env_db_url:\n",
    "    logger.warning(\"DATABASE_URL not set!\")\n",
    "\n",
    "```\n",
    "\n",
    "\n",
    "Example 4: Setting __all__\n",
    "The __all__ variable in __init__.py defines a list of public objects of that module. When you use from module import *, only the items in the __all__ list will be imported.\n",
    "\n",
    "Here's how you could define it:\n",
    "\n",
    "```python\n",
    "# mypackage/__init__.py\n",
    "__all__ = ['add', 'subtract']\n",
    "\n",
    "from .calculator import add, subtract\n",
    "```"
   ]
  },
  {
   "cell_type": "markdown",
   "metadata": {},
   "source": []
  }
 ],
 "metadata": {
  "kernelspec": {
   "display_name": "ml",
   "language": "python",
   "name": "python3"
  },
  "language_info": {
   "codemirror_mode": {
    "name": "ipython",
    "version": 3
   },
   "file_extension": ".py",
   "mimetype": "text/x-python",
   "name": "python",
   "nbconvert_exporter": "python",
   "pygments_lexer": "ipython3",
   "version": "3.12.2"
  }
 },
 "nbformat": 4,
 "nbformat_minor": 2
}
